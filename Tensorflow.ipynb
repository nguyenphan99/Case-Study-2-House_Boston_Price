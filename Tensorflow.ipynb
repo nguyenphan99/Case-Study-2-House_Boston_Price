{
 "cells": [
  {
   "cell_type": "markdown",
   "metadata": {},
   "source": [
    "# I. Tải và chuẩn hóa dữ liệu"
   ]
  },
  {
   "cell_type": "code",
   "execution_count": 1,
   "metadata": {},
   "outputs": [
    {
     "name": "stdout",
     "output_type": "stream",
     "text": [
      "Đã tải và chuẩn hóa dữ liệu\n"
     ]
    }
   ],
   "source": [
    "# import thư viện numpy\n",
    "import numpy as np\n",
    "# import thư viện tensorflow\n",
    "import tensorflow as tf\n",
    "# import thư viện matplotlib\n",
    "import matplotlib.pyplot as plt\n",
    "\n",
    "# Tải dữ liệu data X và y đã được xử lý thành ma trận\n",
    "data_X = np.load(\"F:/UIT/ML/House_Boston/train_X.npy\") \n",
    "data_y = np.load(\"F:/UIT/ML/House_Boston/train_y.npy\")\n",
    " \n",
    "# Chuẩn hóa dữ liệu\n",
    "def normalizer(dataset):\n",
    "    # Tìm giá trung bình của mỗi đặc trưng\n",
    "    mu = np.mean(dataset,axis=0)\n",
    "    # Tìm độ lệch chuẩn của mỗi đặc trưng\n",
    "    sigma = np.std(dataset,axis=0)\n",
    " \n",
    "    return(dataset - mu)/sigma\n",
    "\n",
    "# Thêm cột giá trị bias cho dữ liệu\n",
    "def bias_vector(features,labels):\n",
    "    # Lấy số lượng mẫu\n",
    "    n_training_samples = features.shape[0]\n",
    "    # Lấy số lượng đặc trưng\n",
    "    n_dim = features.shape[1]\n",
    "    # Thêm vào cột bias (cột toàn giá trị 1) cho ma trận thuộc tính\n",
    "    f = np.reshape(np.c_[np.ones(n_training_samples),features],[n_training_samples,n_dim + 1])\n",
    "    # Chuyển ma trận nhãn về kích thước Nx1\n",
    "    l = np.reshape(labels,[n_training_samples,1]) \n",
    "    return f, l\n",
    "\n",
    "train_X = normalizer(data_X)\n",
    "train_X, train_y = bias_vector(train_X, data_y)\n",
    "\n",
    "print(\"Đã tải và chuẩn hóa dữ liệu\")"
   ]
  },
  {
   "cell_type": "markdown",
   "metadata": {},
   "source": [
    "# II. Xây dựng model"
   ]
  },
  {
   "cell_type": "code",
   "execution_count": 5,
   "metadata": {},
   "outputs": [],
   "source": [
    "# Khởi tạo ma trận biến cho model tensorflow với giá trị khởi tạo tại mỗi phần tử là 0\n",
    "W = tf.Variable(tf.zeros([train_X.shape[1], 1]))\n",
    "\n",
    "# Xây dưng placeholder dùng để đổ dữ liệu train_X vào khi huấn luyện với kiểu dữ liệu liệu float32 và kích thước [?, 14] \n",
    "X = tf.placeholder(tf.float32, [None, train_X.shape[1]])\n",
    "# Xây dưng placeholder dùng để đổ dữ liệu train_y vào khi huấn luyện với kiểu dữ liệu liệu float32 và kích thước [?, 1] \n",
    "y = tf.placeholder(tf.float32, [None, 1])\n",
    "\n",
    "# Tính y_hat (tf.matmul tương đương phép nhân ma trận)\n",
    "y_hat = tf.matmul(X, W)\n",
    "# Tính cost (tf.square tương đương phép bình phương mỗi phần tử; tf.reduce_mean tương đương phép lấy trung bình cộng)\n",
    "cost = tf.reduce_mean(tf.square(y - y_hat))\n",
    "\n",
    "# Thiết lập phép tối ưu hóa cost bằng phương pháp Gradient Descent với learning rate = 0.01\n",
    "train = tf.train.GradientDescentOptimizer(0.01).minimize(cost)"
   ]
  },
  {
   "cell_type": "markdown",
   "metadata": {},
   "source": [
    "# III. Train dữ liệu và tối ưu bằng BGD"
   ]
  },
  {
   "cell_type": "code",
   "execution_count": 6,
   "metadata": {},
   "outputs": [
    {
     "name": "stdout",
     "output_type": "stream",
     "text": [
      "epoch :  0       cost =  583.55634\n",
      "epoch :  50       cost =  94.03435\n",
      "epoch :  100       cost =  33.530117\n",
      "epoch :  150       cost =  25.183605\n",
      "epoch :  200       cost =  23.829\n",
      "epoch :  250       cost =  23.47622\n",
      "epoch :  300       cost =  23.306597\n",
      "epoch :  350       cost =  23.19523\n",
      "epoch :  400       cost =  23.11503\n",
      "epoch :  450       cost =  23.05545\n",
      "epoch :  500       cost =  23.010368\n",
      "epoch :  550       cost =  22.975723\n",
      "epoch :  600       cost =  22.94871\n",
      "epoch :  650       cost =  22.927347\n",
      "epoch :  700       cost =  22.910223\n",
      "epoch :  750       cost =  22.89633\n",
      "epoch :  800       cost =  22.884928\n",
      "epoch :  850       cost =  22.87547\n",
      "epoch :  900       cost =  22.86755\n",
      "epoch :  950       cost =  22.860868\n",
      "epoch :  1000       cost =  22.855192\n",
      "epoch :  1050       cost =  22.850336\n",
      "epoch :  1100       cost =  22.846165\n",
      "epoch :  1150       cost =  22.842566\n",
      "epoch :  1200       cost =  22.839447\n",
      "epoch :  1250       cost =  22.836739\n",
      "epoch :  1300       cost =  22.834381\n",
      "epoch :  1350       cost =  22.832321\n",
      "epoch :  1400       cost =  22.830523\n",
      "epoch :  1450       cost =  22.82895\n",
      "epoch :  1500       cost =  22.82757\n",
      "epoch :  1550       cost =  22.826366\n",
      "epoch :  1600       cost =  22.825302\n",
      "epoch :  1650       cost =  22.82437\n",
      "epoch :  1700       cost =  22.823555\n",
      "epoch :  1750       cost =  22.82283\n",
      "epoch :  1800       cost =  22.8222\n",
      "epoch :  1850       cost =  22.821644\n",
      "epoch :  1900       cost =  22.821154\n",
      "epoch :  1950       cost =  22.820724\n",
      "epoch :  1999       cost =  22.820356\n"
     ]
    },
    {
     "data": {
      "image/png": "[encoded data removed]",
      "text/plain": [
       "<Figure size 432x288 with 1 Axes>"
      ]
     },
     "metadata": {
      "needs_background": "light"
     },
     "output_type": "display_data"
    }
   ],
   "source": [
    "# Khởi tạo tất cả các biến\n",
    "init = tf.global_variables_initializer()\n",
    "# Khởi tạo phiên làm việc mới\n",
    "session = tf.Session()\n",
    "# Chạy các biến đã khởi tạo\n",
    "session.run(init)\n",
    "\n",
    "# List lưu các mse\n",
    "all_mse = []\n",
    "# Khởi tạo số vòng lặp\n",
    "num = 2000\n",
    "# Huấn luyện model\n",
    "for e in range(num):\n",
    "    # Đổ dữ liệu và huấn luyện\n",
    "    result, err = session.run([train, cost], feed_dict = {X : train_X, y : train_y})\n",
    "    # Thêm mse vào list\n",
    "    all_mse.append(err)\n",
    "    if e % 50 == 0:\n",
    "        # In ra cost tại vòng lặp thứ e\n",
    "        print(\"epoch : \", e, \"      cost = \", err)\n",
    "\n",
    "print(\"epoch : \", e, \"      cost = \", err)\n",
    "\n",
    "# Vẽ đồ thị biễu diễn cost qua từng vòng lặp\n",
    "axis_x = list(range(num))\n",
    "axis_y = all_mse\n",
    "plt.scatter(axis_x, axis_y)\n",
    "plt.show()"
   ]
  },
  {
   "cell_type": "markdown",
   "metadata": {},
   "source": [
    "# IV. Kiểm tra model được train và tối ưu bằng BGD"
   ]
  },
  {
   "cell_type": "code",
   "execution_count": 7,
   "metadata": {},
   "outputs": [
    {
     "name": "stdout",
     "output_type": "stream",
     "text": [
      "MSE trên test set =  21.99362143682105\n"
     ]
    }
   ],
   "source": [
    "# Tải dữ liệu data X và y đã được xử lý thành ma trận\n",
    "data_test_X = np.load(\"F:/UIT/ML/House_Boston/test_X.npy\")\n",
    "data_test_y = np.load(\"F:/UIT/ML/House_Boston/test_y.npy\")\n",
    "\n",
    "\n",
    "test_X = normalizer(data_test_X)\n",
    "test_X, test_y = bias_vector(test_X, data_test_y)\n",
    "\n",
    "# Tính y_hat khi đổ dữ liệu test_X\n",
    "y_pred = session.run(y_hat, feed_dict={X: test_X})\n",
    "\n",
    "# Tính mse\n",
    "mse = session.run(tf.reduce_mean(tf.square(y_pred - test_y)))\n",
    "\n",
    "print(\"MSE trên test set = \", mse)"
   ]
  },
  {
   "cell_type": "markdown",
   "metadata": {},
   "source": [
    "# V. Train dữ liệu và tối ưu bằng SGD"
   ]
  },
  {
   "cell_type": "code",
   "execution_count": 8,
   "metadata": {},
   "outputs": [
    {
     "name": "stdout",
     "output_type": "stream",
     "text": [
      "epoch :  0       cost =  583.55634\n",
      "epoch :  20       cost =  26.640696\n",
      "epoch :  40       cost =  26.640852\n",
      "epoch :  60       cost =  26.640852\n",
      "epoch :  80       cost =  26.640848\n",
      "epoch :  100       cost =  26.640858\n",
      "epoch :  120       cost =  26.640863\n",
      "epoch :  140       cost =  26.640858\n",
      "epoch :  160       cost =  26.640852\n",
      "epoch :  180       cost =  26.640852\n",
      "epoch :  200       cost =  26.640854\n",
      "epoch :  220       cost =  26.640852\n",
      "epoch :  240       cost =  26.640858\n",
      "epoch :  260       cost =  26.640848\n",
      "epoch :  280       cost =  26.640863\n",
      "epoch :  300       cost =  26.640852\n",
      "epoch :  320       cost =  26.640854\n",
      "epoch :  340       cost =  26.640858\n",
      "epoch :  360       cost =  26.640852\n",
      "epoch :  380       cost =  26.640858\n",
      "epoch :  399       cost =  26.640852\n"
     ]
    },
    {
     "data": {
      "image/png": "[encoded data removed]",
      "text/plain": [
       "<Figure size 432x288 with 1 Axes>"
      ]
     },
     "metadata": {
      "needs_background": "light"
     },
     "output_type": "display_data"
    }
   ],
   "source": [
    "# Khởi tạo tất cả các biến\n",
    "init = tf.global_variables_initializer()\n",
    "# Khởi tạo phiên làm việc mới\n",
    "session = tf.Session()\n",
    "# Chạy các biến đã khởi tạo\n",
    "session.run(init)\n",
    "\n",
    "# List lưu các mse\n",
    "all_mse = []\n",
    "# Khởi tạo số vòng lặp\n",
    "num = 400\n",
    "# Huấn luyện model\n",
    "for e in range(num):\n",
    "    err = session.run(cost, feed_dict = {X : train_X, y : train_y})\n",
    "    all_mse.append(err)\n",
    "    # Lần lượt duyệt qua mối điểm dữ liệu trên tập train\n",
    "    for i in range(train_X.shape[0]):\n",
    "        # Đổ 1 điểm dữ liệu để train\n",
    "        session.run(train, feed_dict = {X : train_X[i].reshape(1, train_X.shape[1]), y : train_y[i].reshape(1, 1)})\n",
    "    if e % 20 == 0:\n",
    "        # In ra cost tại vòng lặp thứ e\n",
    "        print(\"epoch : \", e, \"      cost = \", err)\n",
    "print(\"epoch : \", e, \"      cost = \", err)\n",
    "\n",
    "# Vẽ đồ thị biễu diễn cost qua từng vòng lặp\n",
    "axis_x = list(range(num))\n",
    "axis_y = all_mse\n",
    "plt.scatter(axis_x, axis_y, c='r', label='data')\n",
    "plt.show()"
   ]
  },
  {
   "cell_type": "markdown",
   "metadata": {},
   "source": [
    "# VI. Kiểm tra model được train và tối ưu bằng SGD"
   ]
  },
  {
   "cell_type": "code",
   "execution_count": 9,
   "metadata": {},
   "outputs": [
    {
     "name": "stdout",
     "output_type": "stream",
     "text": [
      "MSE trên test set =  22.991640990708145\n"
     ]
    }
   ],
   "source": [
    "# Tải dữ liệu data X và y đã được xử lý thành ma trận\n",
    "data_test_X = np.load(\"F:/UIT/ML/House_Boston/test_X.npy\")\n",
    "data_test_y = np.load(\"F:/UIT/ML/House_Boston/test_y.npy\")\n",
    "\n",
    "\n",
    "test_X = normalizer(data_test_X)\n",
    "test_X, test_y = bias_vector(test_X, data_test_y)\n",
    "\n",
    "# Tính y_hat khi đổ dữ liệu test_X\n",
    "y_pred = session.run(y_hat, feed_dict={X: test_X})\n",
    "\n",
    "# Tính mse\n",
    "mse = session.run(tf.reduce_mean(tf.square(y_pred - test_y)))\n",
    "\n",
    "print(\"MSE trên test set = \", mse)"
   ]
  },
  {
   "cell_type": "markdown",
   "metadata": {},
   "source": [
    "# VII. Train dữ liệu và tối ưu bằng mini-BGD"
   ]
  },
  {
   "cell_type": "code",
   "execution_count": 10,
   "metadata": {},
   "outputs": [
    {
     "name": "stdout",
     "output_type": "stream",
     "text": [
      "epoch :  0       cost =  583.55634\n",
      "epoch :  20       cost =  44.91137\n",
      "epoch :  40       cost =  24.695065\n",
      "epoch :  60       cost =  23.519375\n",
      "epoch :  80       cost =  23.25425\n",
      "epoch :  100       cost =  23.112778\n",
      "epoch :  120       cost =  23.02529\n",
      "epoch :  140       cost =  22.968552\n",
      "epoch :  160       cost =  22.930342\n",
      "epoch :  180       cost =  22.903685\n",
      "epoch :  200       cost =  22.884487\n",
      "epoch :  220       cost =  22.870281\n",
      "epoch :  240       cost =  22.859518\n",
      "epoch :  260       cost =  22.851223\n",
      "epoch :  280       cost =  22.844734\n",
      "epoch :  300       cost =  22.839596\n",
      "epoch :  320       cost =  22.835506\n",
      "epoch :  340       cost =  22.832224\n",
      "epoch :  360       cost =  22.829584\n",
      "epoch :  380       cost =  22.827448\n",
      "epoch :  399       cost =  22.825796\n"
     ]
    },
    {
     "data": {
      "image/png": "[encoded data removed]",
      "text/plain": [
       "<Figure size 432x288 with 1 Axes>"
      ]
     },
     "metadata": {
      "needs_background": "light"
     },
     "output_type": "display_data"
    }
   ],
   "source": [
    "# Khởi tạo tất cả các biến\n",
    "init = tf.global_variables_initializer()\n",
    "# Khởi tạo phiên làm việc mới\n",
    "session = tf.Session()\n",
    "# Chạy các biến đã khởi tạo\n",
    "session.run(init)\n",
    "\n",
    "# Thiết lập batch size\n",
    "batch_size = 84\n",
    "# List lưu các mse\n",
    "all_mse = []\n",
    "# Khởi tạo số vòng lặp\n",
    "num = 400\n",
    "# Huấn luyện model\n",
    "for e in range(num):\n",
    "    err = session.run(cost, feed_dict = {X : train_X, y : train_y})\n",
    "    all_mse.append(err)\n",
    "    # Chia dữ liệu train ra thành từng phần với kích thước batch_sizex14\n",
    "    for i in range(0, train_X.shape[0], batch_size):\n",
    "        # Đổ phần dữ liệu được cắt vào để train\n",
    "        session.run([train, cost], feed_dict = {X : train_X[i:i+batch_size].reshape(batch_size, train_X.shape[1]), y : train_y[i:i+batch_size].reshape(batch_size, 1)})\n",
    "    if e % 20 == 0:\n",
    "        print(\"epoch : \", e, \"      cost = \", err)\n",
    "print(\"epoch : \", e, \"      cost = \", err)\n",
    "\n",
    "# Vẽ đồ thị biễu diễn cost qua từng vòng lặp\n",
    "axis_x = list(range(num))\n",
    "axis_y = all_mse\n",
    "plt.scatter(axis_x, axis_y, c='r', label='data')\n",
    "plt.show()"
   ]
  },
  {
   "cell_type": "markdown",
   "metadata": {},
   "source": [
    "# VIII. Kiểm tra model được train và tối ưu bằng mini-BGD"
   ]
  },
  {
   "cell_type": "code",
   "execution_count": 11,
   "metadata": {},
   "outputs": [
    {
     "name": "stdout",
     "output_type": "stream",
     "text": [
      "MSE trên test set =  22.004941590851516\n"
     ]
    }
   ],
   "source": [
    "# Tải dữ liệu data X và y đã được xử lý thành ma trận\n",
    "data_test_X = np.load(\"F:/UIT/ML/House_Boston/test_X.npy\")\n",
    "data_test_y = np.load(\"F:/UIT/ML/House_Boston/test_y.npy\")\n",
    "\n",
    "\n",
    "test_X = normalizer(data_test_X)\n",
    "test_X, test_y = bias_vector(test_X, data_test_y)\n",
    "\n",
    "# Tính y_hat khi đổ dữ liệu test_X\n",
    "y_pred = session.run(y_hat, feed_dict={X: test_X})\n",
    "\n",
    "# Tính mse\n",
    "mse = session.run(tf.reduce_mean(tf.square(y_pred - test_y)))\n",
    "\n",
    "print(\"MSE trên test set = \", mse)"
   ]
  },
  {
   "cell_type": "code",
   "execution_count": null,
   "metadata": {},
   "outputs": [],
   "source": []
  }
 ],
 "metadata": {
  "kernelspec": {
   "display_name": "Python 3",
   "language": "python",
   "name": "python3"
  },
  "language_info": {
   "codemirror_mode": {
    "name": "ipython",
    "version": 3
   },
   "file_extension": ".py",
   "mimetype": "text/x-python",
   "name": "python",
   "nbconvert_exporter": "python",
   "pygments_lexer": "ipython3",
   "version": "3.6.8"
  }
 },
 "nbformat": 4,
 "nbformat_minor": 2
}
