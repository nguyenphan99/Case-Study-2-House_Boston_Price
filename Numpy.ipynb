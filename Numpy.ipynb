{
 "cells": [
  {
   "cell_type": "markdown",
   "metadata": {},
   "source": [
    "# I. Tải và chuẩn hóa dữ liệu"
   ]
  },
  {
   "cell_type": "code",
   "execution_count": 9,
   "metadata": {},
   "outputs": [
    {
     "name": "stdout",
     "output_type": "stream",
     "text": [
      "Đã tải và chuẩn hóa dữ liệu\n"
     ]
    }
   ],
   "source": [
    "# import thư viện numpy\n",
    "import numpy as np\n",
    "# import thư viện matplotlib\n",
    "import matplotlib.pyplot as plt\n",
    "\n",
    "# Tải dữ liệu data X và y đã được xử lý thành ma trận\n",
    "data_X = np.load(\"F:/UIT/ML/House_Boston/train_X.npy\") \n",
    "data_y = np.load(\"F:/UIT/ML/House_Boston/train_y.npy\")\n",
    "data_test_X = np.load(\"F:/UIT/ML/House_Boston/test_X.npy\")\n",
    "data_test_y = np.load(\"F:/UIT/ML/House_Boston/test_y.npy\")\n",
    " \n",
    "# Chuẩn hóa dữ liệu\n",
    "def normalizer(dataset):\n",
    "    # Tìm giá trung bình của mỗi đặc trưng\n",
    "    mu = np.mean(dataset,axis=0)\n",
    "    # Tìm độ lệch chuẩn của mỗi đặc trưng\n",
    "    sigma = np.std(dataset,axis=0)\n",
    " \n",
    "    return(dataset - mu)/sigma\n",
    "\n",
    "# Thêm cột giá trị bias cho dữ liệu\n",
    "def bias_vector(features,labels):\n",
    "    # Lấy số lượng mẫu\n",
    "    n_training_samples = features.shape[0]\n",
    "    # Lấy số lượng đặc trưng\n",
    "    n_dim = features.shape[1]\n",
    "    # Thêm vào cột bias (cột toàn giá trị 1) cho ma trận thuộc tính\n",
    "    f = np.reshape(np.c_[np.ones(n_training_samples),features],[n_training_samples,n_dim + 1])\n",
    "    # Chuyển ma trận nhãn về kích thước Nx1\n",
    "    l = np.reshape(labels,[n_training_samples,1]) \n",
    "    return f, l\n",
    "\n",
    "train_X = normalizer(data_X)\n",
    "train_X, train_y = bias_vector(train_X, data_y)\n",
    "\n",
    "print(\"Đã tải và chuẩn hóa dữ liệu\")"
   ]
  },
  {
   "cell_type": "markdown",
   "metadata": {},
   "source": [
    "# II. Hàm tính Mean Square Error"
   ]
  },
  {
   "cell_type": "code",
   "execution_count": 10,
   "metadata": {},
   "outputs": [],
   "source": [
    "def MSE(w, y, X):\n",
    "    # Tìm kết quả dự đoán (np.dot tương đương phép nhân ma trận)\n",
    "    predict = np.dot(X, w)\n",
    "    # Tính mse theo công thức\n",
    "    mse = np.sum(((y - predict)**2)/X.shape[0])\n",
    "    return mse"
   ]
  },
  {
   "cell_type": "markdown",
   "metadata": {},
   "source": [
    "# III. Hàm tính đạo hàm của các tham số"
   ]
  },
  {
   "cell_type": "code",
   "execution_count": 11,
   "metadata": {},
   "outputs": [],
   "source": [
    "def Derivative(w, y, X):\n",
    "    # Tìm kết quả dự đoán (np.dot tương đương phép nhân ma trận)\n",
    "    predict = np.dot(X, w) \n",
    "    # Tính ma trận đạo hàm riêng của mỗi tham số trên cost \n",
    "    return (-2/X.shape[0])*(np.dot(X.T, y - predict))"
   ]
  },
  {
   "cell_type": "markdown",
   "metadata": {},
   "source": [
    "# IV. Định nghĩa siêu tham số hyper parameter"
   ]
  },
  {
   "cell_type": "code",
   "execution_count": 29,
   "metadata": {},
   "outputs": [],
   "source": [
    "# Khởi tạo ma trận biến với giá trị khởi tạo tại mỗi phần tử là 0\n",
    "w = np.zeros((train_X.shape[1], 1))\n",
    "# Khởi tạo learning rate\n",
    "alpha = 0.01"
   ]
  },
  {
   "cell_type": "markdown",
   "metadata": {},
   "source": [
    "# V. Train dữ liệu và tối ưu bằng BGD"
   ]
  },
  {
   "cell_type": "code",
   "execution_count": 15,
   "metadata": {},
   "outputs": [
    {
     "name": "stdout",
     "output_type": "stream",
     "text": [
      "epoch =  0 cost =  555.361302867195\n",
      "epoch =  50 cost =  91.27844276609994\n",
      "epoch =  100 cost =  33.158462206005154\n",
      "epoch =  150 cost =  25.128471585663185\n",
      "epoch =  200 cost =  23.81758565055716\n",
      "epoch =  250 cost =  23.471824392209605\n",
      "epoch =  300 cost =  23.303947329692306\n",
      "epoch =  350 cost =  23.19336788713583\n",
      "epoch =  400 cost =  23.113663687564426\n",
      "epoch =  450 cost =  23.054423335657763\n",
      "epoch =  500 cost =  23.009585122112604\n",
      "epoch =  550 cost =  22.97511831374579\n",
      "epoch =  600 cost =  22.948233612677747\n",
      "epoch =  650 cost =  22.926967140122958\n",
      "epoch =  700 cost =  22.909919421568\n",
      "epoch =  750 cost =  22.896082333248742\n",
      "epoch =  800 cost =  22.884721851120638\n",
      "epoch =  850 cost =  22.875297618068274\n",
      "epoch =  900 cost =  22.86740726288321\n",
      "epoch =  950 cost =  22.860747559183718\n",
      "epoch =  1000 cost =  22.855087144067767\n",
      "epoch =  1050 cost =  22.850247229391044\n",
      "epoch =  1100 cost =  22.846087873633163\n",
      "epoch =  1150 cost =  22.84249814407317\n",
      "epoch =  1200 cost =  22.839389015214458\n",
      "epoch =  1250 cost =  22.836688201906092\n",
      "epoch =  1300 cost =  22.83433636781902\n",
      "epoch =  1350 cost =  22.83228431722933\n",
      "epoch =  1400 cost =  22.83049089413323\n",
      "epoch =  1450 cost =  22.828921393580796\n",
      "epoch =  1500 cost =  22.827546346662373\n",
      "epoch =  1550 cost =  22.82634058026877\n",
      "epoch =  1600 cost =  22.82528248070158\n",
      "epoch =  1650 cost =  22.824353409972815\n",
      "epoch =  1700 cost =  22.82353723765824\n",
      "epoch =  1750 cost =  22.822819961162285\n",
      "epoch =  1800 cost =  22.822189394403928\n",
      "epoch =  1850 cost =  22.82163491007605\n",
      "epoch =  1900 cost =  22.82114722434835\n",
      "epoch =  1950 cost =  22.820718215587483\n",
      "epoch =  1999 cost =  22.820347855884354\n"
     ]
    },
    {
     "data": {
      "image/png": "[encoded data removed]",
      "text/plain": [
       "<Figure size 432x288 with 1 Axes>"
      ]
     },
     "metadata": {
      "needs_background": "light"
     },
     "output_type": "display_data"
    }
   ],
   "source": [
    "all_mse = []\n",
    "\n",
    "# Khởi tạo số vòng lặp\n",
    "num = 2000\n",
    "# Huấn luyện\n",
    "for i in range(num):\n",
    "    # Tính cost với w hiện thời\n",
    "    err = MSE(w, train_y, train_X)\n",
    "    all_mse.append(err)\n",
    "    \n",
    "    # Cập nhật w theo công thức gradient descent\n",
    "    w = w - alpha*Derivative(w, train_y, train_X)\n",
    "    \n",
    "    if i % 50 == 0:\n",
    "        # In ra cost tại vòng lặp thứ i\n",
    "        print(\"epoch = \", i, \"cost = \",MSE(w, train_y, train_X))\n",
    "\n",
    "print(\"epoch = \", i, \"cost = \",MSE(w, train_y, train_X))\n",
    "        \n",
    "# Vẽ đồ thị biễu diễn cost qua từng vòng lặp\n",
    "axis_x = list(range(num))\n",
    "axis_y = all_mse\n",
    "plt.scatter(axis_x, axis_y)\n",
    "plt.show()"
   ]
  },
  {
   "cell_type": "markdown",
   "metadata": {},
   "source": [
    "# VI. Kiểm tra model được train và tối ưu bằng BGD"
   ]
  },
  {
   "cell_type": "code",
   "execution_count": 16,
   "metadata": {},
   "outputs": [
    {
     "name": "stdout",
     "output_type": "stream",
     "text": [
      "MSE trên test :  21.99356717495397\n"
     ]
    }
   ],
   "source": [
    "# Tải dữ liệu data X và y đã được xử lý thành ma trận\n",
    "data_test_X = np.load(\"F:/UIT/ML/House_Boston/test_X.npy\")\n",
    "data_test_y = np.load(\"F:/UIT/ML/House_Boston/test_y.npy\")\n",
    "\n",
    "\n",
    "test_X = normalizer(data_test_X)\n",
    "test_X, test_y = bias_vector(test_X, data_test_y)\n",
    "\n",
    "print(\"MSE trên test : \", MSE(w, test_y, test_X))"
   ]
  },
  {
   "cell_type": "markdown",
   "metadata": {},
   "source": [
    "# VII. Train dữ liệu và tối ưu bằng SGD"
   ]
  },
  {
   "cell_type": "code",
   "execution_count": 24,
   "metadata": {},
   "outputs": [
    {
     "name": "stdout",
     "output_type": "stream",
     "text": [
      "epoch =  0 cost =  583.5563392857143\n",
      "epoch =  20 cost =  26.640699478489264\n",
      "epoch =  40 cost =  26.640856976438652\n",
      "epoch =  60 cost =  26.640857010946\n",
      "epoch =  80 cost =  26.640857010953557\n",
      "epoch =  100 cost =  26.640857010953557\n",
      "epoch =  120 cost =  26.640857010953557\n",
      "epoch =  140 cost =  26.640857010953553\n",
      "epoch =  160 cost =  26.640857010953553\n",
      "epoch =  180 cost =  26.64085701095356\n",
      "epoch =  200 cost =  26.640857010953546\n",
      "epoch =  220 cost =  26.640857010953564\n",
      "epoch =  240 cost =  26.640857010953564\n",
      "epoch =  260 cost =  26.64085701095356\n",
      "epoch =  280 cost =  26.64085701095356\n",
      "epoch =  300 cost =  26.640857010953564\n",
      "epoch =  320 cost =  26.64085701095356\n",
      "epoch =  340 cost =  26.640857010953557\n",
      "epoch =  360 cost =  26.64085701095356\n",
      "epoch =  380 cost =  26.640857010953553\n",
      "epoch =  399 cost =  26.640857010953557\n"
     ]
    },
    {
     "data": {
      "image/png": "[encoded data removed]",
      "text/plain": [
       "<Figure size 432x288 with 1 Axes>"
      ]
     },
     "metadata": {
      "needs_background": "light"
     },
     "output_type": "display_data"
    }
   ],
   "source": [
    "# list chứa tất cả mse\n",
    "all_mse = []\n",
    "\n",
    "# Khởi tạo số vòng lặp\n",
    "num = 400\n",
    "# Huấn luyện\n",
    "for i in range(num):\n",
    "    # Tính cost với w hiện thời\n",
    "    err = MSE(w, train_y, train_X)\n",
    "    all_mse.append(err)\n",
    "    \n",
    "    if i % 20 == 0:\n",
    "        # In ra cost tại vòng lặp thứ i\n",
    "        print(\"epoch = \", i, \"cost = \",MSE(w, train_y, train_X))\n",
    "    \n",
    "    # Duyệt qua mỗi điểm dữ trên tập train\n",
    "    for j in range(train_X.shape[0]):\n",
    "        # Cập nhật w theo công thức gradient descent\n",
    "        w = w - alpha*Derivative(w, train_y[j].reshape(1, 1), train_X[j].reshape(1, train_X.shape[1]))\n",
    "\n",
    "print(\"epoch = \", i, \"cost = \",MSE(w, train_y, train_X))\n",
    "        \n",
    "# Vẽ đồ thị biễu diễn cost qua từng vòng lặp\n",
    "axis_x = list(range(num))\n",
    "axis_y = all_mse\n",
    "plt.scatter(axis_x, axis_y)\n",
    "plt.show()"
   ]
  },
  {
   "cell_type": "markdown",
   "metadata": {},
   "source": [
    "# VIII. Kiểm tra model được train và tối ưu bằng SGD"
   ]
  },
  {
   "cell_type": "code",
   "execution_count": 25,
   "metadata": {},
   "outputs": [
    {
     "name": "stdout",
     "output_type": "stream",
     "text": [
      "MSE trên test :  22.991636216766025\n"
     ]
    }
   ],
   "source": [
    "# Tải dữ liệu data X và y đã được xử lý thành ma trận\n",
    "data_test_X = np.load(\"F:/UIT/ML/House_Boston/test_X.npy\")\n",
    "data_test_y = np.load(\"F:/UIT/ML/House_Boston/test_y.npy\")\n",
    "\n",
    "\n",
    "test_X = normalizer(data_test_X)\n",
    "test_X, test_y = bias_vector(test_X, data_test_y)\n",
    "\n",
    "print(\"MSE trên test : \", MSE(w, test_y, test_X))"
   ]
  },
  {
   "cell_type": "markdown",
   "metadata": {},
   "source": [
    "# IX. Train dữ liệu và tối ưu bằng mini-BGD"
   ]
  },
  {
   "cell_type": "code",
   "execution_count": 30,
   "metadata": {},
   "outputs": [
    {
     "name": "stdout",
     "output_type": "stream",
     "text": [
      "epoch =  0 cost =  583.5563392857143\n",
      "epoch =  20 cost =  44.91136888443711\n",
      "epoch =  40 cost =  24.695061319561262\n",
      "epoch =  60 cost =  23.519376145563882\n",
      "epoch =  80 cost =  23.254250492521003\n",
      "epoch =  100 cost =  23.11278295160363\n",
      "epoch =  120 cost =  23.02528543770717\n",
      "epoch =  140 cost =  22.968551633080743\n",
      "epoch =  160 cost =  22.930339894245396\n",
      "epoch =  180 cost =  22.903683293585985\n",
      "epoch =  200 cost =  22.884488143334032\n",
      "epoch =  220 cost =  22.870280595270863\n",
      "epoch =  240 cost =  22.85952159833896\n",
      "epoch =  260 cost =  22.851223572840173\n",
      "epoch =  280 cost =  22.84473192571776\n",
      "epoch =  300 cost =  22.83959834729183\n",
      "epoch =  320 cost =  22.835505988942845\n",
      "epoch =  340 cost =  22.83222437648614\n",
      "epoch =  360 cost =  22.82958160977659\n",
      "epoch =  380 cost =  22.82744676920794\n",
      "epoch =  399 cost =  22.82571845764432\n"
     ]
    },
    {
     "data": {
      "image/png": "[encoded data removed]",
      "text/plain": [
       "<Figure size 432x288 with 1 Axes>"
      ]
     },
     "metadata": {
      "needs_background": "light"
     },
     "output_type": "display_data"
    }
   ],
   "source": [
    "# list chứa tất cả mse\n",
    "all_mse = []\n",
    "\n",
    "# Thiết lập batch size\n",
    "batch_size = 84\n",
    "\n",
    "# Khởi tạo số vòng lặp\n",
    "num = 400\n",
    "# Huấn luyện\n",
    "for i in range(num):\n",
    "    # Tính cost với w hiện thời\n",
    "    err = MSE(w, train_y, train_X)\n",
    "    all_mse.append(err)\n",
    "    \n",
    "    if i % 20 == 0:\n",
    "        # In ra cost tại vòng lặp thứ i\n",
    "        print(\"epoch = \", i, \"cost = \",MSE(w, train_y, train_X))\n",
    "    \n",
    "    # Duyệt qua từng khối dữ liệu được chia nhỏ với kích thước batch_size\n",
    "    for j in range(0, train_X.shape[0], batch_size):\n",
    "        # Cập nhật w theo công thức gradient descent\n",
    "        w = w - alpha*Derivative(w, train_y[j:j+batch_size].reshape(batch_size, 1), train_X[j:j+batch_size].reshape(batch_size, train_X.shape[1]))\n",
    "\n",
    "print(\"epoch = \", i, \"cost = \",MSE(w, train_y, train_X))\n",
    "        \n",
    "# Vẽ đồ thị biễu diễn cost qua từng vòng lặp\n",
    "axis_x = list(range(num))\n",
    "axis_y = all_mse\n",
    "plt.scatter(axis_x, axis_y)\n",
    "plt.show()"
   ]
  },
  {
   "cell_type": "markdown",
   "metadata": {},
   "source": [
    "# X. Kiểm tra model được train và tối ưu bằng mini-BGD"
   ]
  },
  {
   "cell_type": "code",
   "execution_count": 31,
   "metadata": {},
   "outputs": [
    {
     "name": "stdout",
     "output_type": "stream",
     "text": [
      "MSE trên test :  22.004942482164346\n"
     ]
    }
   ],
   "source": [
    "# Tải dữ liệu data X và y đã được xử lý thành ma trận\n",
    "data_test_X = np.load(\"F:/UIT/ML/House_Boston/test_X.npy\")\n",
    "data_test_y = np.load(\"F:/UIT/ML/House_Boston/test_y.npy\")\n",
    "\n",
    "\n",
    "test_X = normalizer(data_test_X)\n",
    "test_X, test_y = bias_vector(test_X, data_test_y)\n",
    "\n",
    "print(\"MSE trên test : \", MSE(w, test_y, test_X))"
   ]
  },
  {
   "cell_type": "code",
   "execution_count": null,
   "metadata": {},
   "outputs": [],
   "source": []
  }
 ],
 "metadata": {
  "kernelspec": {
   "display_name": "Python 3",
   "language": "python",
   "name": "python3"
  },
  "language_info": {
   "codemirror_mode": {
    "name": "ipython",
    "version": 3
   },
   "file_extension": ".py",
   "mimetype": "text/x-python",
   "name": "python",
   "nbconvert_exporter": "python",
   "pygments_lexer": "ipython3",
   "version": "3.6.8"
  }
 },
 "nbformat": 4,
 "nbformat_minor": 2
}
